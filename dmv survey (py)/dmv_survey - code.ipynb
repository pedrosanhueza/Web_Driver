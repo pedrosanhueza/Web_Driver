{
 "cells": [
  {
   "cell_type": "markdown",
   "metadata": {},
   "source": [
    "# WEB DRIVER\n",
    "\n",
    "##### Description: Repeat same task X number of times. In this case, submit an online survey feedback with same response.\n",
    "\n",
    "##### Requirements: WebDriver (in this case is chromedriver) and Selenium (python library)\n",
    "\n",
    "##### Author: Pedro Sanhueza"
   ]
  },
  {
   "cell_type": "code",
   "execution_count": 91,
   "metadata": {},
   "outputs": [],
   "source": [
    "import requests\n",
    "from bs4 import BeautifulSoup\n",
    "from selenium import webdriver\n",
    "import random\n"
   ]
  },
  {
   "cell_type": "code",
   "execution_count": 177,
   "metadata": {},
   "outputs": [],
   "source": [
    "# List of negative words from file\n",
    "words = open('negative-words.txt','r').readlines()[35:]\n"
   ]
  },
  {
   "cell_type": "code",
   "execution_count": 178,
   "metadata": {},
   "outputs": [],
   "source": [
    "# List of negative words from website \n",
    "soup = BeautifulSoup(requests.get(\"https://www.enchantedlearning.com/wordlist/negativewords.shtml\").text, 'html.parser')\n",
    "words.extend([x.text for x in soup.find_all('div',{'class':'wordlist-item'})])\n"
   ]
  },
  {
   "cell_type": "code",
   "execution_count": 179,
   "metadata": {},
   "outputs": [],
   "source": [
    "# List of negative words from website\n",
    "soup = BeautifulSoup(requests.get(\"https://www.fluentland.com/negative-vocabulary-word-list/\").text, 'html.parser')\n",
    "words.extend([x.text.strip().lower() for x in soup.select('li')][70:396])\n"
   ]
  },
  {
   "cell_type": "code",
   "execution_count": 180,
   "metadata": {},
   "outputs": [],
   "source": [
    "# Add prexif to list of negative words\n",
    "words.extend(\n",
    "    ['Not great',\n",
    "    'The lady is annoying',\n",
    "    'The woman hates her job',\n",
    "    'They made fun of me.',\n",
    "    'Super disrespectful',\n",
    "    'Please train your employees',\n",
    "    'The witch started talking with her coworker and left me hanging there',\n",
    "    'They are disrespectful',\n",
    "    'She can at least try',\n",
    "    'They are super annoying',\n",
    "    'I rather go else where. Please give me another place to do this paperwork']\n",
    ")\n",
    "\n"
   ]
  },
  {
   "cell_type": "code",
   "execution_count": 200,
   "metadata": {},
   "outputs": [],
   "source": [
    "words = [x.lower() for x in words]\n",
    "additional_feedback = []\n",
    "additional_feedback.extend(['very '+x for x in words][:900])\n",
    "additional_feedback.extend(['really '+x for x in words][900:1500])\n",
    "additional_feedback.extend(['super '+x for x in words][1500:2000])\n",
    "additional_feedback.extend(['lady '+x for x in words][2000:3000])\n",
    "additional_feedback.extend([x+' people' for x in words][3000:4500])\n",
    "additional_feedback.extend([x+' stuff' for x in words][4500:5000])\n",
    "additional_feedback.extend([x+' lady' for x in words][5000:])\n",
    "\n",
    "random.shuffle(additional_feedback)\n",
    "additional_feedback = [x.replace(\"\\n\", \"\") for x in additional_feedback]\n"
   ]
  },
  {
   "cell_type": "code",
   "execution_count": 202,
   "metadata": {},
   "outputs": [
    {
     "data": {
      "text/plain": [
       "5344"
      ]
     },
     "execution_count": 202,
     "metadata": {},
     "output_type": "execute_result"
    }
   ],
   "source": [
    "len(additional_feedback)"
   ]
  },
  {
   "cell_type": "code",
   "execution_count": 208,
   "metadata": {},
   "outputs": [],
   "source": [
    "DRIVER_PATH = \"/Users/pedrosanhueza/EXOXY/Personal Projects/Programming/Public/Web_Driver/dmv survey (py)/chromedriver\" # path to the chromedriver\n",
    "driver = webdriver.Chrome(DRIVER_PATH) # open the driver page\n",
    "\n",
    "URL = \"https://docs.google.com/forms/d/e/1FAIpQLSfvSOYjcHU10iWGSx_BLwwJLlf4YVUHzHxskIFyEepUxJPHZA/viewform?embedded=true\"\n",
    "for e in additional_feedback: # repeat X times ( in this case 3 times )\n",
    "    driver.get(URL) # go to the website (also refresh page)\n",
    "    driver.find_elements_by_xpath(\"//div[@class='d7L4fc bJNwt  aomaEc ECvBRb']\")[0].click() # select poor level performance\n",
    "    driver.find_element_by_xpath(\"//textarea[@class='KHxj8b tL9Q4c']\").send_keys(e) # enter text additional feedback\n",
    "    driver.find_elements_by_xpath(\"//div[@jsname='M2UYVd']\")[0].click() # submit score\n",
    "driver.quit() # close website\n"
   ]
  },
  {
   "cell_type": "code",
   "execution_count": null,
   "metadata": {},
   "outputs": [],
   "source": []
  }
 ],
 "metadata": {
  "interpreter": {
   "hash": "aee8b7b246df8f9039afb4144a1f6fd8d2ca17a180786b69acc140d282b71a49"
  },
  "kernelspec": {
   "display_name": "Python 3.9.0 64-bit",
   "language": "python",
   "name": "python3"
  },
  "language_info": {
   "codemirror_mode": {
    "name": "ipython",
    "version": 3
   },
   "file_extension": ".py",
   "mimetype": "text/x-python",
   "name": "python",
   "nbconvert_exporter": "python",
   "pygments_lexer": "ipython3",
   "version": "3.9.0"
  },
  "orig_nbformat": 4
 },
 "nbformat": 4,
 "nbformat_minor": 2
}
