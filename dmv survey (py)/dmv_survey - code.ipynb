{
 "cells": [
  {
   "cell_type": "markdown",
   "metadata": {},
   "source": [
    "# WEB DRIVER\n",
    "\n",
    "##### Description: Repeat same task X number of times. In this case, submit an online survey feedback with same response.\n",
    "\n",
    "##### Requirements: WebDriver (in this case is chromedriver) and Selenium (python library)\n",
    "\n",
    "##### Author: Pedro Sanhueza"
   ]
  },
  {
   "cell_type": "code",
   "execution_count": 1,
   "metadata": {},
   "outputs": [],
   "source": [
    "from selenium import webdriver"
   ]
  },
  {
   "cell_type": "code",
   "execution_count": 2,
   "metadata": {},
   "outputs": [],
   "source": [
    "DRIVER_PATH = \"/Users/pedrosanhueza/EXOXY/Personal Projects/Programming/Public/Git Hub/Projects/Web Driver/dmv survey (py)/chromedriver\" # path to the chromedriver\n",
    "driver = webdriver.Chrome(DRIVER_PATH) # open the driver page"
   ]
  },
  {
   "cell_type": "code",
   "execution_count": null,
   "metadata": {},
   "outputs": [],
   "source": [
    "URL = \"https://docs.google.com/forms/d/e/1FAIpQLSfvSOYjcHU10iWGSx_BLwwJLlf4YVUHzHxskIFyEepUxJPHZA/viewform?embedded=true\"\n",
    "for e in range(3): # repeat X times ( in this case 3 times )\n",
    "    driver.get(URL) # go to the website (also refresh page)\n",
    "    driver.find_elements_by_xpath(\"//div[@class='d7L4fc bJNwt  aomaEc ECvBRb']\")[0].click() # select the low review score\n",
    "    driver.find_elements_by_xpath(\"//div[@jsname='M2UYVd']\")[0].click() # submit score and back to loop\n",
    "driver.quit() # close website"
   ]
  },
  {
   "cell_type": "code",
   "execution_count": null,
   "metadata": {},
   "outputs": [],
   "source": []
  }
 ],
 "metadata": {
  "interpreter": {
   "hash": "aee8b7b246df8f9039afb4144a1f6fd8d2ca17a180786b69acc140d282b71a49"
  },
  "kernelspec": {
   "display_name": "Python 3.9.0 64-bit",
   "language": "python",
   "name": "python3"
  },
  "language_info": {
   "codemirror_mode": {
    "name": "ipython",
    "version": 3
   },
   "file_extension": ".py",
   "mimetype": "text/x-python",
   "name": "python",
   "nbconvert_exporter": "python",
   "pygments_lexer": "ipython3",
   "version": "3.9.0"
  },
  "orig_nbformat": 4
 },
 "nbformat": 4,
 "nbformat_minor": 2
}
