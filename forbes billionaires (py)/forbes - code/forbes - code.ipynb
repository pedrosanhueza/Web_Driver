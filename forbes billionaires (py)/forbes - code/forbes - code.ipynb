{
 "cells": [
  {
   "cell_type": "markdown",
   "metadata": {},
   "source": [
    "# Web Driver\n",
    "\n",
    "##### Description: Use a web driver (chromedriver) to extract all hyperlinks (href) from a non friendly page for Web Scrapping\n",
    "##### Output: list of all hyperlinks that contains people's profile information to webscrape.\n",
    "##### Requirements: webdriver and selenium library\n",
    "##### Disclaimer: This web driver step can be replaced by looking into the main.json file from the website located at the 'inspect page source/network/main.json' of the page. This project is to test the functionality of the webdriver in an showcase a different routh to web scrape.\n",
    "##### Author: Pedro Sanhueza"
   ]
  },
  {
   "cell_type": "code",
   "execution_count": 5,
   "metadata": {},
   "outputs": [],
   "source": [
    "from selenium import webdriver\n",
    "import os"
   ]
  },
  {
   "cell_type": "code",
   "execution_count": 13,
   "metadata": {},
   "outputs": [],
   "source": [
    "DRIVER_PATH = \"/Users/pedrosanhueza/EXOXY/Personal Projects/Programming/Public/Git Hub/Projects/Web Driver/dmv survey (py)/chromedriver\"\n",
    "driver = webdriver.Chrome(DRIVER_PATH) # open chrome"
   ]
  },
  {
   "cell_type": "code",
   "execution_count": 3,
   "metadata": {},
   "outputs": [],
   "source": [
    "driver.get('https://www.forbes.com/billionaires/') # got to url"
   ]
  },
  {
   "cell_type": "code",
   "execution_count": 4,
   "metadata": {},
   "outputs": [],
   "source": [
    "forbes_profiles = [] # list with profile url"
   ]
  },
  {
   "cell_type": "code",
   "execution_count": 5,
   "metadata": {},
   "outputs": [],
   "source": [
    "def href(): # extract all href in current section and append to list \"forbes_profiles\"\n",
    "\n",
    "    ls_rows = driver.find_elements_by_class_name(\"table-row\") # list of all rows in page\n",
    "    \n",
    "    for e in range(0,len(ls_rows)-1):\n",
    "        forbes_profiles.append(driver.find_element_by_class_name('bio-button').get_attribute(\"href\")) # append href \n",
    "        ls_rows[e+1].click() # open row\n",
    "    \n",
    "    forbes_profiles.append(driver.find_element_by_class_name('bio-button').get_attribute(\"href\")) # append last href to list\n",
    "    "
   ]
  },
  {
   "cell_type": "code",
   "execution_count": 6,
   "metadata": {},
   "outputs": [
    {
     "name": "stdout",
     "output_type": "stream",
     "text": [
      "urls appended: 200\n",
      "urls appended: 400\n",
      "urls appended: 600\n",
      "urls appended: 800\n",
      "urls appended: 1000\n",
      "urls appended: 1200\n",
      "urls appended: 1400\n",
      "urls appended: 1600\n",
      "urls appended: 1800\n",
      "urls appended: 2000\n",
      "urls appended: 2200\n",
      "urls appended: 2400\n",
      "urls appended: 2600\n",
      "urls appended: 2668\n"
     ]
    }
   ],
   "source": [
    "while True: # takes about 20 minutes to run\n",
    "    href()  # extract all href in current section\n",
    "    print(f\"urls appended: {len(forbes_profiles)}\")\n",
    "    try:\n",
    "        driver.find_elements_by_class_name('bubble-arrow')[1].click() # move to the next section\n",
    "    except:\n",
    "        break # brake from while loop when there is no more sections"
   ]
  },
  {
   "cell_type": "code",
   "execution_count": 21,
   "metadata": {},
   "outputs": [],
   "source": [
    "import pandas\n",
    "from datetime import datetime\n",
    "\n",
    "file_path = '../forbes - historical data/forbes_profiles ' + datetime.now().strftime(\"%d-%m-%Y %H%M%S\") + \".csv\" # folder location with file name\n",
    "pandas.DataFrame({'URL': forbes_profiles}).to_csv(file_path)"
   ]
  }
 ],
 "metadata": {
  "interpreter": {
   "hash": "aee8b7b246df8f9039afb4144a1f6fd8d2ca17a180786b69acc140d282b71a49"
  },
  "kernelspec": {
   "display_name": "Python 3.9.0 64-bit",
   "language": "python",
   "name": "python3"
  },
  "language_info": {
   "codemirror_mode": {
    "name": "ipython",
    "version": 3
   },
   "file_extension": ".py",
   "mimetype": "text/x-python",
   "name": "python",
   "nbconvert_exporter": "python",
   "pygments_lexer": "ipython3",
   "version": "3.9.0"
  },
  "orig_nbformat": 4
 },
 "nbformat": 4,
 "nbformat_minor": 2
}
